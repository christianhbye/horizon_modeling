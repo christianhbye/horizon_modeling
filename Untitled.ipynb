{
 "cells": [
  {
   "cell_type": "code",
   "execution_count": 1,
   "id": "f3d897e4-409f-427e-81f1-aecf5728be9c",
   "metadata": {},
   "outputs": [],
   "source": [
    "import laspy\n",
    "import numpy as np\n",
    "import pyvista as pv"
   ]
  },
  {
   "cell_type": "code",
   "execution_count": 2,
   "id": "8263ef1c-a896-43dd-b6f5-8c22a9fef64a",
   "metadata": {},
   "outputs": [
    {
     "name": "stdout",
     "output_type": "stream",
     "text": [
      "19669025\n",
      "6\n",
      "['X', 'Y', 'Z', 'intensity', 'return_number', 'number_of_returns', 'synthetic', 'key_point', 'withheld', 'overlap', 'scanner_channel', 'scan_direction_flag', 'edge_of_flight_line', 'classification', 'user_data', 'scan_angle', 'point_source_id', 'gps_time']\n",
      "(array([ 1,  2,  7, 18], dtype=uint8), array([ 9055682, 10133496,   478871,      976]))\n"
     ]
    }
   ],
   "source": [
    "las = laspy.read(\"USGS_LPC_UT_WestEast_B22_12STJ9346.laz\")\n",
    "print(las.header.point_count)\n",
    "print(las.point_format.id)\n",
    "print(list(las.point_format.dimension_names))\n",
    "\n",
    "# types of points\n",
    "# 1: unassigned, 2: ground, 7: low point, 18: high noise\n",
    "print(np.unique(las.classification, return_counts=True))"
   ]
  },
  {
   "cell_type": "code",
   "execution_count": 4,
   "id": "f11e43d1-a667-4dfd-a335-ef9353a101b0",
   "metadata": {},
   "outputs": [
    {
     "data": {
      "application/vnd.jupyter.widget-view+json": {
       "model_id": "449b11296ba34226832804d3d0e41fcc",
       "version_major": 2,
       "version_minor": 0
      },
      "text/plain": [
       "Widget(value='<iframe src=\"http://localhost:33057/index.html?ui=P_0x77e1d96d30a0_1&reconnect=auto\" class=\"pyvi…"
      ]
     },
     "metadata": {},
     "output_type": "display_data"
    }
   ],
   "source": [
    "poly = pv.PolyData(las.xyz)\n",
    "plotter = pv.Plotter(window_size=None, off_screen=False, notebook=True)\n",
    "\n",
    "colors = np.repeat([[255, 125, 0]], las.xyz.shape[0], axis=0).astype(np.uint8)\n",
    "\n",
    "# Add the poly data to the scene\n",
    "plotter.add_mesh(poly, point_size=5., scalars=colors, rgb=True, render_points_as_spheres=False)\n",
    "plotter.enable_eye_dome_lighting()\n",
    "# TODO: Leverage `kwargs[\"elev\"]` and `kwargs[\"azim\"]`\n",
    "plotter.show(title=None, interactive=True, jupyter_backend=\"trame\")"
   ]
  }
 ],
 "metadata": {
  "kernelspec": {
   "display_name": "Python 3 (ipykernel)",
   "language": "python",
   "name": "python3"
  },
  "language_info": {
   "codemirror_mode": {
    "name": "ipython",
    "version": 3
   },
   "file_extension": ".py",
   "mimetype": "text/x-python",
   "name": "python",
   "nbconvert_exporter": "python",
   "pygments_lexer": "ipython3",
   "version": "3.10.12"
  }
 },
 "nbformat": 4,
 "nbformat_minor": 5
}
